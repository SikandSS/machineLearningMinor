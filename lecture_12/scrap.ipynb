{
 "cells": [
  {
   "cell_type": "code",
   "execution_count": 38,
   "metadata": {},
   "outputs": [],
   "source": [
    "from bs4 import BeautifulSoup\n",
    "import requests\n",
    "import json"
   ]
  },
  {
   "cell_type": "code",
   "execution_count": 29,
   "metadata": {},
   "outputs": [],
   "source": [
    "def process(content):\n",
    "    soup = BeautifulSoup(content)\n",
    "    quotes_divs = soup.find_all(\"div\", attrs={\"class\" : \"quote\"})\n",
    "    quotes = []\n",
    "    for div in quotes_divs:\n",
    "        q_text = div.find(\"div\", attrs={\"class\" : \"quoteText\"})\n",
    "        quote = q_text.text.strip().split(\"\\n\")[0]\n",
    "        author = q_text.find(\"span\", attrs={\"class\" : \"authorOrTitle\"}).text.strip()\n",
    "        \n",
    "        q_dict = {\"quote\" : quote, \"author\":author}\n",
    "        quotes.append(q_dict)\n",
    "    \n",
    "    return quotes"
   ]
  },
  {
   "cell_type": "code",
   "execution_count": 34,
   "metadata": {},
   "outputs": [],
   "source": [
    "base_url = \"https://www.goodreads.com/quotes/tag/{0}?page={1}\"\n",
    "\n",
    "emotions = [\"love\", \"god\"]\n",
    "\n",
    "quotes = []\n",
    "\n",
    "for emotion in emotions:\n",
    "    for index in range(1, 4):\n",
    "        final_url = base_url.format(emotion, index)\n",
    "        page = requests.get(final_url)\n",
    "        content = page.text\n",
    "        quotes += process(content)\n"
   ]
  },
  {
   "cell_type": "code",
   "execution_count": 35,
   "metadata": {},
   "outputs": [
    {
     "data": {
      "text/plain": [
       "180"
      ]
     },
     "execution_count": 35,
     "metadata": {},
     "output_type": "execute_result"
    }
   ],
   "source": [
    "len(quotes)"
   ]
  },
  {
   "cell_type": "code",
   "execution_count": 18,
   "metadata": {},
   "outputs": [],
   "source": [
    "temp_url = \"https://www.goodreads.com/quotes/tag/love?page=1\"\n",
    "page = requests.get(final_url)\n",
    "content = page.text"
   ]
  },
  {
   "cell_type": "code",
   "execution_count": 28,
   "metadata": {},
   "outputs": [
    {
     "data": {
      "text/plain": [
       "{'quote': \"“I'm selfish, impatient and a little insecure. I make mistakes, I am out of control and at times hard to handle. But if you can't handle me at my worst, then you sure as hell don't deserve me at my best.”\",\n",
       " 'author': 'Marilyn Monroe'}"
      ]
     },
     "execution_count": 28,
     "metadata": {},
     "output_type": "execute_result"
    }
   ],
   "source": [
    "process(content)[0]"
   ]
  },
  {
   "cell_type": "code",
   "execution_count": 47,
   "metadata": {},
   "outputs": [],
   "source": [
    "f = open(\"quotes.json\", \"w\", encoding=\"utf8\")"
   ]
  },
  {
   "cell_type": "code",
   "execution_count": 48,
   "metadata": {},
   "outputs": [],
   "source": [
    "json.dump(quotes, f)"
   ]
  },
  {
   "cell_type": "code",
   "execution_count": null,
   "metadata": {},
   "outputs": [],
   "source": []
  }
 ],
 "metadata": {
  "kernelspec": {
   "display_name": "Python 3",
   "language": "python",
   "name": "python3"
  },
  "language_info": {
   "codemirror_mode": {
    "name": "ipython",
    "version": 3
   },
   "file_extension": ".py",
   "mimetype": "text/x-python",
   "name": "python",
   "nbconvert_exporter": "python",
   "pygments_lexer": "ipython3",
   "version": "3.7.2"
  }
 },
 "nbformat": 4,
 "nbformat_minor": 2
}
