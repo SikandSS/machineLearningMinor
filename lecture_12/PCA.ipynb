{
 "cells": [
  {
   "cell_type": "code",
   "execution_count": 13,
   "metadata": {},
   "outputs": [],
   "source": [
    "import pandas as pd\n",
    "import numpy as np\n",
    "from sklearn.decomposition import PCA\n",
    "import matplotlib.pyplot as plt\n",
    "from sklearn.datasets import make_blobs"
   ]
  },
  {
   "cell_type": "code",
   "execution_count": 30,
   "metadata": {},
   "outputs": [],
   "source": [
    "X, y = make_blobs(100, centers=2, n_features=10, random_state=42)"
   ]
  },
  {
   "cell_type": "code",
   "execution_count": 31,
   "metadata": {},
   "outputs": [
    {
     "data": {
      "text/plain": [
       "(100, 10)"
      ]
     },
     "execution_count": 31,
     "metadata": {},
     "output_type": "execute_result"
    }
   ],
   "source": [
    "X.shape"
   ]
  },
  {
   "cell_type": "code",
   "execution_count": 51,
   "metadata": {},
   "outputs": [],
   "source": [
    "pca = PCA(n_components=2)"
   ]
  },
  {
   "cell_type": "code",
   "execution_count": 52,
   "metadata": {},
   "outputs": [
    {
     "data": {
      "text/plain": [
       "PCA(copy=True, iterated_power='auto', n_components=2, random_state=None,\n",
       "  svd_solver='auto', tol=0.0, whiten=False)"
      ]
     },
     "execution_count": 52,
     "metadata": {},
     "output_type": "execute_result"
    }
   ],
   "source": [
    "pca.fit(X)"
   ]
  },
  {
   "cell_type": "code",
   "execution_count": 53,
   "metadata": {},
   "outputs": [
    {
     "data": {
      "text/plain": [
       "array([[-0.44249909,  0.03599678,  0.10901052, -0.45534908,  0.0404807 ,\n",
       "         0.0217548 ,  0.32039471, -0.4208362 , -0.19449108, -0.51378798],\n",
       "       [ 0.06604178, -0.20559868, -0.04990897,  0.13039064,  0.04935553,\n",
       "         0.58791019,  0.3939742 , -0.13545849,  0.63976456, -0.05419702]])"
      ]
     },
     "execution_count": 53,
     "metadata": {},
     "output_type": "execute_result"
    }
   ],
   "source": [
    "pca.components_"
   ]
  },
  {
   "cell_type": "code",
   "execution_count": 46,
   "metadata": {},
   "outputs": [],
   "source": [
    "# plt.xlim(-15, 15)\n",
    "# plt.ylim(-15, 15)\n",
    "# plt.scatter(X[:, 0], X[:, 1])"
   ]
  },
  {
   "cell_type": "code",
   "execution_count": 47,
   "metadata": {},
   "outputs": [],
   "source": [
    "X_dash = np.dot(X, pca.components_.T)"
   ]
  },
  {
   "cell_type": "code",
   "execution_count": 48,
   "metadata": {},
   "outputs": [
    {
     "data": {
      "text/plain": [
       "(100, 1)"
      ]
     },
     "execution_count": 48,
     "metadata": {},
     "output_type": "execute_result"
    }
   ],
   "source": [
    "X_dash.shape"
   ]
  },
  {
   "cell_type": "code",
   "execution_count": 50,
   "metadata": {},
   "outputs": [
    {
     "data": {
      "text/plain": [
       "<matplotlib.collections.PathCollection at 0x117690e10>"
      ]
     },
     "execution_count": 50,
     "metadata": {},
     "output_type": "execute_result"
    },
    {
     "data": {
      "image/png": "[encoded data removed]",
      "text/plain": [
       "<Figure size 432x288 with 1 Axes>"
      ]
     },
     "metadata": {
      "needs_background": "light"
     },
     "output_type": "display_data"
    }
   ],
   "source": [
    "plt.xlim(-15, 15)\n",
    "plt.ylim(-15, 15)\n",
    "plt.scatter(X_dash[:, 0], np.ones((len(X_dash))), c=y)"
   ]
  },
  {
   "cell_type": "code",
   "execution_count": 40,
   "metadata": {},
   "outputs": [],
   "source": [
    "X_gen = pca.transform(X)"
   ]
  },
  {
   "cell_type": "code",
   "execution_count": 42,
   "metadata": {},
   "outputs": [
    {
     "data": {
      "text/plain": [
       "<matplotlib.collections.PathCollection at 0x1175e77f0>"
      ]
     },
     "execution_count": 42,
     "metadata": {},
     "output_type": "execute_result"
    },
    {
     "data": {
      "image/png": "[encoded data removed]",
      "text/plain": [
       "<Figure size 432x288 with 1 Axes>"
      ]
     },
     "metadata": {
      "needs_background": "light"
     },
     "output_type": "display_data"
    }
   ],
   "source": [
    "plt.xlim(-15, 15)\n",
    "plt.ylim(-15, 15)\n",
    "plt.scatter(X_gen[:, 0], X_gen[:, 1], c=y)"
   ]
  },
  {
   "cell_type": "code",
   "execution_count": 49,
   "metadata": {},
   "outputs": [
    {
     "data": {
      "text/plain": [
       "array([[ 7.94656369],\n",
       "       [-8.75636253],\n",
       "       [-8.26368389],\n",
       "       [-6.12168639],\n",
       "       [ 9.59124989],\n",
       "       [-9.91499118],\n",
       "       [-8.29001321],\n",
       "       [-6.10310744],\n",
       "       [ 8.58373403],\n",
       "       [ 8.05704677],\n",
       "       [ 6.80794493],\n",
       "       [ 7.05755694],\n",
       "       [-9.46238192],\n",
       "       [ 8.83321835],\n",
       "       [ 7.47499298],\n",
       "       [ 7.4431364 ],\n",
       "       [ 9.5596127 ],\n",
       "       [-7.86034021],\n",
       "       [ 7.29762417],\n",
       "       [ 7.67847503],\n",
       "       [ 9.83258622],\n",
       "       [-8.60845215],\n",
       "       [-8.53572903],\n",
       "       [-7.9555906 ],\n",
       "       [-9.18524376],\n",
       "       [-7.39766223],\n",
       "       [10.22013524],\n",
       "       [-9.81069983],\n",
       "       [-7.22050515],\n",
       "       [-8.59368178],\n",
       "       [-8.51108815],\n",
       "       [ 8.82486509],\n",
       "       [ 8.47680644],\n",
       "       [-8.36360985],\n",
       "       [ 8.07794562],\n",
       "       [-6.93958031],\n",
       "       [-7.99776633],\n",
       "       [-7.10403426],\n",
       "       [ 8.15407387],\n",
       "       [ 8.15868687],\n",
       "       [11.08074284],\n",
       "       [-7.27414751],\n",
       "       [-7.92871221],\n",
       "       [-7.96467949],\n",
       "       [ 8.41869185],\n",
       "       [ 9.18910006],\n",
       "       [-8.77380507],\n",
       "       [-6.3170319 ],\n",
       "       [ 7.71049584],\n",
       "       [-6.31667795],\n",
       "       [-7.51875252],\n",
       "       [-9.61137599],\n",
       "       [ 6.44508393],\n",
       "       [ 8.54807337],\n",
       "       [ 7.89431097],\n",
       "       [-7.17723627],\n",
       "       [ 9.27470401],\n",
       "       [ 7.16688182],\n",
       "       [ 7.88528585],\n",
       "       [ 9.03565516],\n",
       "       [-7.89764494],\n",
       "       [ 9.00455193],\n",
       "       [-9.98812034],\n",
       "       [-6.87788716],\n",
       "       [ 9.16842382],\n",
       "       [ 9.19633683],\n",
       "       [-8.35589927],\n",
       "       [-7.07405313],\n",
       "       [-5.85993687],\n",
       "       [ 9.32504937],\n",
       "       [ 8.94350708],\n",
       "       [ 8.37358084],\n",
       "       [-7.499188  ],\n",
       "       [ 6.95086398],\n",
       "       [-7.7076616 ],\n",
       "       [-7.44793016],\n",
       "       [ 7.01549417],\n",
       "       [10.50814601],\n",
       "       [-8.0397485 ],\n",
       "       [-8.76461592],\n",
       "       [-7.08403568],\n",
       "       [ 7.21218828],\n",
       "       [ 7.41228972],\n",
       "       [-7.6001891 ],\n",
       "       [ 8.45695681],\n",
       "       [-8.35812637],\n",
       "       [ 8.98674706],\n",
       "       [ 9.67928626],\n",
       "       [-7.74976771],\n",
       "       [ 9.64620541],\n",
       "       [ 9.36164438],\n",
       "       [-6.22779789],\n",
       "       [-7.43459564],\n",
       "       [-8.67764397],\n",
       "       [-7.85440106],\n",
       "       [ 8.31858951],\n",
       "       [ 6.58477498],\n",
       "       [-8.39164297],\n",
       "       [ 7.65565062],\n",
       "       [ 8.83121073]])"
      ]
     },
     "execution_count": 49,
     "metadata": {},
     "output_type": "execute_result"
    }
   ],
   "source": [
    "X_dash"
   ]
  },
  {
   "cell_type": "code",
   "execution_count": null,
   "metadata": {},
   "outputs": [],
   "source": []
  }
 ],
 "metadata": {
  "kernelspec": {
   "display_name": "Python 3",
   "language": "python",
   "name": "python3"
  },
  "language_info": {
   "codemirror_mode": {
    "name": "ipython",
    "version": 3
   },
   "file_extension": ".py",
   "mimetype": "text/x-python",
   "name": "python",
   "nbconvert_exporter": "python",
   "pygments_lexer": "ipython3",
   "version": "3.7.2"
  }
 },
 "nbformat": 4,
 "nbformat_minor": 2
}
