{
 "cells": [
  {
   "cell_type": "code",
   "execution_count": 90,
   "metadata": {},
   "outputs": [],
   "source": [
    "class Human:\n",
    "    \n",
    "    population = 0\n",
    "    \n",
    "    def __init__(self, name, age = 0):\n",
    "        self.name = name\n",
    "        self.age = age\n",
    "        \n",
    "    def first(self):\n",
    "        self.second()\n",
    "        \n",
    "    def second(self):\n",
    "        print(\"we want to run this\")\n",
    "        \n",
    "    def third(self, fn):\n",
    "        fn()\n",
    "        \n",
    "    @classmethod\n",
    "    def extra(cls):\n",
    "        print(cls.population)\n",
    "        "
   ]
  },
  {
   "cell_type": "code",
   "execution_count": 48,
   "metadata": {},
   "outputs": [],
   "source": [
    "mohit = Human(\"Mohit Singh\", 20)"
   ]
  },
  {
   "cell_type": "code",
   "execution_count": 49,
   "metadata": {},
   "outputs": [],
   "source": [
    "# mohit.first()"
   ]
  },
  {
   "cell_type": "code",
   "execution_count": 88,
   "metadata": {},
   "outputs": [],
   "source": [
    "Human.population += 1"
   ]
  },
  {
   "cell_type": "code",
   "execution_count": 50,
   "metadata": {},
   "outputs": [],
   "source": [
    "def first():\n",
    "    second()\n",
    "\n",
    "\n",
    "def second():\n",
    "    print(\"this one is from outside\")\n",
    "    "
   ]
  },
  {
   "cell_type": "code",
   "execution_count": 51,
   "metadata": {},
   "outputs": [
    {
     "name": "stdout",
     "output_type": "stream",
     "text": [
      "this one is from outside\n"
     ]
    }
   ],
   "source": [
    "mohit.third(first)"
   ]
  },
  {
   "cell_type": "code",
   "execution_count": 73,
   "metadata": {},
   "outputs": [],
   "source": [
    "class Car:\n",
    "    \n",
    "    def __init__(self, slogan):\n",
    "        self.doors = 4\n",
    "        self.engine = 1\n",
    "        self.slogan = slogan\n",
    "        \n",
    "    def start(self):\n",
    "        print(\"start like a generic car\")\n",
    "        \n",
    "    def stop(self):\n",
    "        print(\"stop like a generic car\")"
   ]
  },
  {
   "cell_type": "code",
   "execution_count": 75,
   "metadata": {},
   "outputs": [],
   "source": [
    "mycar = Car(\"haare ka sahara\")"
   ]
  },
  {
   "cell_type": "code",
   "execution_count": 76,
   "metadata": {},
   "outputs": [
    {
     "name": "stdout",
     "output_type": "stream",
     "text": [
      "stop like a generic car\n"
     ]
    }
   ],
   "source": [
    "mycar.stop()"
   ]
  },
  {
   "cell_type": "code",
   "execution_count": 80,
   "metadata": {},
   "outputs": [],
   "source": [
    "class Maruti(Car):\n",
    "    \n",
    "    def __init__(self, slogan):\n",
    "        super().__init__(slogan)\n",
    "        self.wings = 2\n",
    "    \n",
    "    def start(self):\n",
    "        print(\"start like a Maruti car\")\n",
    "        \n",
    "    def stop(self):\n",
    "        print(\"stop like a Maruti car\")"
   ]
  },
  {
   "cell_type": "code",
   "execution_count": 81,
   "metadata": {},
   "outputs": [],
   "source": [
    "mymaruti = Maruti(\"Haare ka sahara\")"
   ]
  },
  {
   "cell_type": "code",
   "execution_count": 82,
   "metadata": {},
   "outputs": [
    {
     "data": {
      "text/plain": [
       "'Haare ka sahara'"
      ]
     },
     "execution_count": 82,
     "metadata": {},
     "output_type": "execute_result"
    }
   ],
   "source": [
    "mymaruti.slogan"
   ]
  },
  {
   "cell_type": "code",
   "execution_count": 83,
   "metadata": {},
   "outputs": [
    {
     "name": "stdout",
     "output_type": "stream",
     "text": [
      "hello\r\n"
     ]
    }
   ],
   "source": [
    "! echo \"hello\""
   ]
  },
  {
   "cell_type": "code",
   "execution_count": 84,
   "metadata": {},
   "outputs": [
    {
     "name": "stdout",
     "output_type": "stream",
     "text": [
      "Requirement already satisfied: numpy in /usr/local/lib/python3.7/site-packages (1.16.1)\r\n"
     ]
    }
   ],
   "source": [
    "! python3 -m pip install numpy"
   ]
  },
  {
   "cell_type": "code",
   "execution_count": 91,
   "metadata": {},
   "outputs": [
    {
     "name": "stdout",
     "output_type": "stream",
     "text": [
      "0\n"
     ]
    }
   ],
   "source": [
    "Human.extra()\n"
   ]
  },
  {
   "cell_type": "code",
   "execution_count": null,
   "metadata": {},
   "outputs": [],
   "source": []
  }
 ],
 "metadata": {
  "kernelspec": {
   "display_name": "Python 3",
   "language": "python",
   "name": "python3"
  },
  "language_info": {
   "codemirror_mode": {
    "name": "ipython",
    "version": 3
   },
   "file_extension": ".py",
   "mimetype": "text/x-python",
   "name": "python",
   "nbconvert_exporter": "python",
   "pygments_lexer": "ipython3",
   "version": "3.7.2"
  }
 },
 "nbformat": 4,
 "nbformat_minor": 2
}
