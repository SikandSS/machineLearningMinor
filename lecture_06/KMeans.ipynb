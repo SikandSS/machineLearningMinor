{
 "cells": [
  {
   "cell_type": "code",
   "execution_count": 128,
   "metadata": {},
   "outputs": [],
   "source": [
    "import numpy as np\n",
    "import matplotlib.pyplot as plt\n",
    "from sklearn.datasets import make_blobs\n",
    "import random"
   ]
  },
  {
   "cell_type": "code",
   "execution_count": 129,
   "metadata": {},
   "outputs": [],
   "source": [
    "X, y = make_blobs(1000, centers=4, random_state=42)"
   ]
  },
  {
   "cell_type": "code",
   "execution_count": 130,
   "metadata": {},
   "outputs": [
    {
     "data": {
      "text/plain": [
       "<matplotlib.collections.PathCollection at 0x11e7345f8>"
      ]
     },
     "execution_count": 130,
     "metadata": {},
     "output_type": "execute_result"
    },
    {
     "data": {
      "image/png": "[encoded data removed]",
      "text/plain": [
       "<Figure size 432x288 with 1 Axes>"
      ]
     },
     "metadata": {
      "needs_background": "light"
     },
     "output_type": "display_data"
    }
   ],
   "source": [
    "plt.scatter(X[:, 0], X[:, 1])"
   ]
  },
  {
   "cell_type": "code",
   "execution_count": 131,
   "metadata": {},
   "outputs": [],
   "source": [
    "class KMeans:\n",
    "    \n",
    "    def __init__(self, k):\n",
    "        self.k = k\n",
    "        self.X = None\n",
    "        self.clusters = None\n",
    "        \n",
    "    def fit(self, X):\n",
    "        self.X = X\n",
    "        \n",
    "        self.clusters = []\n",
    "        points = random.sample(list(self.X), self.k)\n",
    "        for point in points:\n",
    "            cluster = Cluster(point)\n",
    "            self.clusters.append(cluster)\n",
    "            \n",
    "        for _ in range(10):\n",
    "            self.labels_ = []\n",
    "            for point in self.X:\n",
    "                distances = []\n",
    "                for cluster in enumerate(self.clusters):\n",
    "                    cluster = sel\n",
    "                    dis = cluster.distance(point)\n",
    "                    distances.append((dis, cluster))\n",
    "                distances = sorted(distances)\n",
    "                chosen = distances[0][1]\n",
    "                chosen.points.append(point)\n",
    "            \n",
    "            for cluster in self.clusters:\n",
    "                cluster.update_center()\n",
    "            \n",
    "    \n",
    "class Cluster:\n",
    "    def __init__(self, center):\n",
    "        self.center = center\n",
    "        self.points = []\n",
    "        \n",
    "    def update_center(self):\n",
    "        points = np.array(self.points)\n",
    "        self.center = np.mean(points, axis=0)\n",
    "        self.points = []\n",
    "    \n",
    "    def distance(self, point):\n",
    "        return np.sum((self.center - point) ** 2)\n",
    "        "
   ]
  },
  {
   "cell_type": "code",
   "execution_count": 147,
   "metadata": {},
   "outputs": [],
   "source": [
    "model = KMeans(4)"
   ]
  },
  {
   "cell_type": "code",
   "execution_count": 148,
   "metadata": {},
   "outputs": [],
   "source": [
    "model.fit(X)"
   ]
  },
  {
   "cell_type": "code",
   "execution_count": 149,
   "metadata": {},
   "outputs": [
    {
     "data": {
      "image/png": "[encoded data removed]",
      "text/plain": [
       "<Figure size 432x288 with 1 Axes>"
      ]
     },
     "metadata": {
      "needs_background": "light"
     },
     "output_type": "display_data"
    }
   ],
   "source": [
    "plt.scatter(X[:, 0], X[:, 1])\n",
    "for cluster in model.clusters:\n",
    "    plt.scatter(cluster.center[0], cluster.center[1])"
   ]
  },
  {
   "cell_type": "code",
   "execution_count": null,
   "metadata": {},
   "outputs": [],
   "source": []
  },
  {
   "cell_type": "code",
   "execution_count": null,
   "metadata": {},
   "outputs": [],
   "source": []
  },
  {
   "cell_type": "code",
   "execution_count": null,
   "metadata": {},
   "outputs": [],
   "source": []
  }
 ],
 "metadata": {
  "kernelspec": {
   "display_name": "Python 3",
   "language": "python",
   "name": "python3"
  },
  "language_info": {
   "codemirror_mode": {
    "name": "ipython",
    "version": 3
   },
   "file_extension": ".py",
   "mimetype": "text/x-python",
   "name": "python",
   "nbconvert_exporter": "python",
   "pygments_lexer": "ipython3",
   "version": "3.7.2"
  }
 },
 "nbformat": 4,
 "nbformat_minor": 2
}
