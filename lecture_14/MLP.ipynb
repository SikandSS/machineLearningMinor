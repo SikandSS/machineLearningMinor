{
 "cells": [
  {
   "cell_type": "code",
   "execution_count": 48,
   "metadata": {},
   "outputs": [],
   "source": [
    "from keras.models import Sequential\n",
    "from keras.layers import Dense\n",
    "from keras.losses import categorical_crossentropy\n",
    "from sklearn.datasets import make_blobs\n",
    "from sklearn.model_selection import train_test_split\n",
    "import matplotlib.pyplot as plt\n",
    "from sklearn.preprocessing import OneHotEncoder"
   ]
  },
  {
   "cell_type": "code",
   "execution_count": 49,
   "metadata": {},
   "outputs": [],
   "source": [
    "X, y = make_blobs(1000, centers=3, random_state=42)"
   ]
  },
  {
   "cell_type": "code",
   "execution_count": 50,
   "metadata": {},
   "outputs": [],
   "source": [
    "ohe = OneHotEncoder(categories=\"auto\")"
   ]
  },
  {
   "cell_type": "code",
   "execution_count": 51,
   "metadata": {},
   "outputs": [],
   "source": [
    "y_hot = ohe.fit_transform(y.reshape(-1, 1)).todense()"
   ]
  },
  {
   "cell_type": "code",
   "execution_count": 67,
   "metadata": {},
   "outputs": [],
   "source": [
    "X_train, X_test, y_train, y_test = train_test_split(\n",
    "...     X, y_hot, test_size=0.33, random_state=42)"
   ]
  },
  {
   "cell_type": "code",
   "execution_count": 68,
   "metadata": {},
   "outputs": [
    {
     "data": {
      "text/plain": [
       "<matplotlib.collections.PathCollection at 0x131579208>"
      ]
     },
     "execution_count": 68,
     "metadata": {},
     "output_type": "execute_result"
    },
    {
     "data": {
      "image/png": "[encoded data removed]",
      "text/plain": [
       "<Figure size 432x288 with 1 Axes>"
      ]
     },
     "metadata": {
      "needs_background": "light"
     },
     "output_type": "display_data"
    }
   ],
   "source": [
    "plt.scatter(X[:, 0], X[:, 1], c=y)"
   ]
  },
  {
   "cell_type": "code",
   "execution_count": 69,
   "metadata": {},
   "outputs": [
    {
     "data": {
      "text/plain": [
       "(1000, 2)"
      ]
     },
     "execution_count": 69,
     "metadata": {},
     "output_type": "execute_result"
    }
   ],
   "source": [
    "X.shape"
   ]
  },
  {
   "cell_type": "code",
   "execution_count": 70,
   "metadata": {},
   "outputs": [
    {
     "name": "stdout",
     "output_type": "stream",
     "text": [
      "_________________________________________________________________\n",
      "Layer (type)                 Output Shape              Param #   \n",
      "=================================================================\n",
      "dense_13 (Dense)             (None, 4)                 12        \n",
      "_________________________________________________________________\n",
      "dense_14 (Dense)             (None, 3)                 15        \n",
      "=================================================================\n",
      "Total params: 27\n",
      "Trainable params: 27\n",
      "Non-trainable params: 0\n",
      "_________________________________________________________________\n"
     ]
    }
   ],
   "source": [
    "layer_1 = Dense(4, activation=\"relu\", input_shape=[2])\n",
    "layer_2 = Dense(3, activation=\"softmax\")\n",
    "\n",
    "model = Sequential()\n",
    "model.add(layer_1)\n",
    "model.add(layer_2)\n",
    "model.summary()"
   ]
  },
  {
   "cell_type": "code",
   "execution_count": 71,
   "metadata": {},
   "outputs": [],
   "source": [
    "model.compile(optimizer=\"adam\", loss=\"categorical_crossentropy\", metrics=[\"accuracy\"])"
   ]
  },
  {
   "cell_type": "code",
   "execution_count": 72,
   "metadata": {},
   "outputs": [
    {
     "name": "stdout",
     "output_type": "stream",
     "text": [
      "Epoch 1/40\n",
      "670/670 [==============================] - 0s 384us/step - loss: 3.0749 - acc: 0.3552\n",
      "Epoch 2/40\n",
      "670/670 [==============================] - 0s 18us/step - loss: 2.9729 - acc: 0.3687\n",
      "Epoch 3/40\n",
      "670/670 [==============================] - 0s 29us/step - loss: 2.8685 - acc: 0.3701\n",
      "Epoch 4/40\n",
      "670/670 [==============================] - 0s 23us/step - loss: 2.7645 - acc: 0.3716\n",
      "Epoch 5/40\n",
      "670/670 [==============================] - 0s 30us/step - loss: 2.6645 - acc: 0.3716\n",
      "Epoch 6/40\n",
      "670/670 [==============================] - 0s 16us/step - loss: 2.5659 - acc: 0.3418\n",
      "Epoch 7/40\n",
      "670/670 [==============================] - 0s 42us/step - loss: 2.4656 - acc: 0.3269\n",
      "Epoch 8/40\n",
      "670/670 [==============================] - 0s 48us/step - loss: 2.3671 - acc: 0.3269\n",
      "Epoch 9/40\n",
      "670/670 [==============================] - 0s 30us/step - loss: 2.2710 - acc: 0.3269\n",
      "Epoch 10/40\n",
      "670/670 [==============================] - 0s 41us/step - loss: 2.1723 - acc: 0.3269\n",
      "Epoch 11/40\n",
      "670/670 [==============================] - 0s 28us/step - loss: 2.0752 - acc: 0.3269\n",
      "Epoch 12/40\n",
      "670/670 [==============================] - 0s 43us/step - loss: 1.9772 - acc: 0.3269\n",
      "Epoch 13/40\n",
      "670/670 [==============================] - 0s 45us/step - loss: 1.8826 - acc: 0.3269\n",
      "Epoch 14/40\n",
      "670/670 [==============================] - 0s 21us/step - loss: 1.7846 - acc: 0.3269\n",
      "Epoch 15/40\n",
      "670/670 [==============================] - 0s 19us/step - loss: 1.6893 - acc: 0.3269\n",
      "Epoch 16/40\n",
      "670/670 [==============================] - 0s 15us/step - loss: 1.5937 - acc: 0.3269\n",
      "Epoch 17/40\n",
      "670/670 [==============================] - 0s 29us/step - loss: 1.4969 - acc: 0.3269\n",
      "Epoch 18/40\n",
      "670/670 [==============================] - 0s 15us/step - loss: 1.4047 - acc: 0.4478\n",
      "Epoch 19/40\n",
      "670/670 [==============================] - 0s 27us/step - loss: 1.3089 - acc: 0.4537\n",
      "Epoch 20/40\n",
      "670/670 [==============================] - 0s 14us/step - loss: 1.2195 - acc: 0.4716\n",
      "Epoch 21/40\n",
      "670/670 [==============================] - 0s 26us/step - loss: 1.1327 - acc: 0.4910\n",
      "Epoch 22/40\n",
      "670/670 [==============================] - 0s 28us/step - loss: 1.0499 - acc: 0.5194\n",
      "Epoch 23/40\n",
      "670/670 [==============================] - 0s 23us/step - loss: 0.9688 - acc: 0.5537\n",
      "Epoch 24/40\n",
      "670/670 [==============================] - 0s 16us/step - loss: 0.8947 - acc: 0.5776\n",
      "Epoch 25/40\n",
      "670/670 [==============================] - 0s 20us/step - loss: 0.8237 - acc: 0.6328\n",
      "Epoch 26/40\n",
      "670/670 [==============================] - 0s 25us/step - loss: 0.7629 - acc: 0.7000\n",
      "Epoch 27/40\n",
      "670/670 [==============================] - 0s 19us/step - loss: 0.7059 - acc: 0.7597\n",
      "Epoch 28/40\n",
      "670/670 [==============================] - 0s 25us/step - loss: 0.6579 - acc: 0.7955\n",
      "Epoch 29/40\n",
      "670/670 [==============================] - 0s 16us/step - loss: 0.6161 - acc: 0.8328\n",
      "Epoch 30/40\n",
      "670/670 [==============================] - 0s 26us/step - loss: 0.5800 - acc: 0.8642\n",
      "Epoch 31/40\n",
      "670/670 [==============================] - 0s 24us/step - loss: 0.5471 - acc: 0.8866\n",
      "Epoch 32/40\n",
      "670/670 [==============================] - 0s 32us/step - loss: 0.5190 - acc: 0.9075\n",
      "Epoch 33/40\n",
      "670/670 [==============================] - 0s 29us/step - loss: 0.4948 - acc: 0.9254\n",
      "Epoch 34/40\n",
      "670/670 [==============================] - 0s 29us/step - loss: 0.4730 - acc: 0.9418\n",
      "Epoch 35/40\n",
      "670/670 [==============================] - 0s 36us/step - loss: 0.4543 - acc: 0.9612\n",
      "Epoch 36/40\n",
      "670/670 [==============================] - 0s 20us/step - loss: 0.4378 - acc: 0.9746\n",
      "Epoch 37/40\n",
      "670/670 [==============================] - 0s 24us/step - loss: 0.4230 - acc: 0.9791\n",
      "Epoch 38/40\n",
      "670/670 [==============================] - 0s 23us/step - loss: 0.4100 - acc: 0.9836\n",
      "Epoch 39/40\n",
      "670/670 [==============================] - 0s 29us/step - loss: 0.3986 - acc: 0.9851\n",
      "Epoch 40/40\n",
      "670/670 [==============================] - 0s 29us/step - loss: 0.3883 - acc: 0.9896\n"
     ]
    },
    {
     "data": {
      "text/plain": [
       "<keras.callbacks.History at 0x1316d1a90>"
      ]
     },
     "execution_count": 72,
     "metadata": {},
     "output_type": "execute_result"
    }
   ],
   "source": [
    "model.fit(X_train, y_train, epochs=40, batch_size=100)"
   ]
  },
  {
   "cell_type": "code",
   "execution_count": 73,
   "metadata": {},
   "outputs": [
    {
     "name": "stdout",
     "output_type": "stream",
     "text": [
      "330/330 [==============================] - 0s 242us/step\n"
     ]
    },
    {
     "data": {
      "text/plain": [
       "[0.3860561739314686, 0.996969696969697]"
      ]
     },
     "execution_count": 73,
     "metadata": {},
     "output_type": "execute_result"
    }
   ],
   "source": [
    "model.evaluate(X_test, y_test)"
   ]
  },
  {
   "cell_type": "code",
   "execution_count": null,
   "metadata": {},
   "outputs": [],
   "source": []
  }
 ],
 "metadata": {
  "kernelspec": {
   "display_name": "Python 3",
   "language": "python",
   "name": "python3"
  },
  "language_info": {
   "codemirror_mode": {
    "name": "ipython",
    "version": 3
   },
   "file_extension": ".py",
   "mimetype": "text/x-python",
   "name": "python",
   "nbconvert_exporter": "python",
   "pygments_lexer": "ipython3",
   "version": "3.7.2"
  }
 },
 "nbformat": 4,
 "nbformat_minor": 2
}
