{
 "cells": [
  {
   "cell_type": "code",
   "execution_count": 20,
   "metadata": {},
   "outputs": [],
   "source": [
    "import pandas as pd\n",
    "from keras.models import Model\n",
    "from keras.layers import Dense\n",
    "from keras.layers import Input\n",
    "from sklearn.preprocessing import OneHotEncoder\n",
    "from sklearn.model_selection import train_test_split\n",
    "import matplotlib.pyplot as plt\n",
    "import numpy as np"
   ]
  },
  {
   "cell_type": "code",
   "execution_count": 2,
   "metadata": {},
   "outputs": [],
   "source": [
    "data = pd.read_csv(\"../datasets/mnist_train_small.csv\").values"
   ]
  },
  {
   "cell_type": "code",
   "execution_count": 3,
   "metadata": {},
   "outputs": [],
   "source": [
    "X = data[:, 2:]\n",
    "y = data[:, 1]"
   ]
  },
  {
   "cell_type": "code",
   "execution_count": 56,
   "metadata": {},
   "outputs": [],
   "source": [
    "ohe = OneHotEncoder(categories=\"auto\")\n",
    "y_hot = ohe.fit_transform(y.reshape(-1, 1)).todense()\n",
    "y_sec = ohe.fit_transform(((y>5).astype(int)).reshape(-1, 1)).todense()"
   ]
  },
  {
   "cell_type": "code",
   "execution_count": 36,
   "metadata": {},
   "outputs": [],
   "source": [
    "# X_train, X_test, y_train, y_test = train_test_split(\n",
    "# ...     X, y_hot, test_size=0.33, random_state=42)"
   ]
  },
  {
   "cell_type": "code",
   "execution_count": 57,
   "metadata": {},
   "outputs": [
    {
     "data": {
      "text/plain": [
       "(8000, 2)"
      ]
     },
     "execution_count": 57,
     "metadata": {},
     "output_type": "execute_result"
    }
   ],
   "source": [
    "y_sec.shape"
   ]
  },
  {
   "cell_type": "code",
   "execution_count": 58,
   "metadata": {},
   "outputs": [],
   "source": [
    "in_layer = Input(shape=[784])\n",
    "layer_1 = Dense(200, activation=\"tanh\")(in_layer)\n",
    "layer_21 = Dense(50, activation=\"tanh\")(layer_1)\n",
    "layer_22 = Dense(50, activation=\"tanh\")(layer_1)\n",
    "out_1 = Dense(10, activation=\"softmax\")(layer_21)\n",
    "out_2 = Dense(2, activation=\"softmax\")(layer_22)"
   ]
  },
  {
   "cell_type": "code",
   "execution_count": 59,
   "metadata": {},
   "outputs": [],
   "source": [
    "model = Model(inputs=[in_layer], outputs=[out_1, out_2])"
   ]
  },
  {
   "cell_type": "code",
   "execution_count": 60,
   "metadata": {},
   "outputs": [
    {
     "name": "stdout",
     "output_type": "stream",
     "text": [
      "__________________________________________________________________________________________________\n",
      "Layer (type)                    Output Shape         Param #     Connected to                     \n",
      "==================================================================================================\n",
      "input_4 (InputLayer)            (None, 784)          0                                            \n",
      "__________________________________________________________________________________________________\n",
      "dense_16 (Dense)                (None, 200)          157000      input_4[0][0]                    \n",
      "__________________________________________________________________________________________________\n",
      "dense_17 (Dense)                (None, 50)           10050       dense_16[0][0]                   \n",
      "__________________________________________________________________________________________________\n",
      "dense_18 (Dense)                (None, 50)           10050       dense_16[0][0]                   \n",
      "__________________________________________________________________________________________________\n",
      "dense_19 (Dense)                (None, 10)           510         dense_17[0][0]                   \n",
      "__________________________________________________________________________________________________\n",
      "dense_20 (Dense)                (None, 2)            102         dense_18[0][0]                   \n",
      "==================================================================================================\n",
      "Total params: 177,712\n",
      "Trainable params: 177,712\n",
      "Non-trainable params: 0\n",
      "__________________________________________________________________________________________________\n"
     ]
    }
   ],
   "source": [
    "model.summary()"
   ]
  },
  {
   "cell_type": "code",
   "execution_count": 61,
   "metadata": {},
   "outputs": [],
   "source": [
    "model.compile(optimizer=\"adam\", loss=\"categorical_crossentropy\", metrics=[\"acc\"])"
   ]
  },
  {
   "cell_type": "code",
   "execution_count": 62,
   "metadata": {},
   "outputs": [
    {
     "name": "stdout",
     "output_type": "stream",
     "text": [
      "Epoch 1/10\n",
      "8000/8000 [==============================] - 1s 98us/step - loss: 1.7374 - dense_19_loss: 1.2797 - dense_20_loss: 0.4577 - dense_19_acc: 0.6054 - dense_20_acc: 0.7790\n",
      "Epoch 2/10\n",
      "8000/8000 [==============================] - 0s 37us/step - loss: 0.9281 - dense_19_loss: 0.6314 - dense_20_loss: 0.2967 - dense_19_acc: 0.8328 - dense_20_acc: 0.8802\n",
      "Epoch 3/10\n",
      "8000/8000 [==============================] - 0s 44us/step - loss: 0.7307 - dense_19_loss: 0.4799 - dense_20_loss: 0.2509 - dense_19_acc: 0.8661 - dense_20_acc: 0.9036\n",
      "Epoch 4/10\n",
      "8000/8000 [==============================] - 0s 43us/step - loss: 0.6584 - dense_19_loss: 0.4183 - dense_20_loss: 0.2401 - dense_19_acc: 0.8829 - dense_20_acc: 0.9073\n",
      "Epoch 5/10\n",
      "8000/8000 [==============================] - 0s 44us/step - loss: 0.5637 - dense_19_loss: 0.3596 - dense_20_loss: 0.2041 - dense_19_acc: 0.8985 - dense_20_acc: 0.9240\n",
      "Epoch 6/10\n",
      "8000/8000 [==============================] - 0s 39us/step - loss: 0.5264 - dense_19_loss: 0.3307 - dense_20_loss: 0.1957 - dense_19_acc: 0.9047 - dense_20_acc: 0.9287\n",
      "Epoch 7/10\n",
      "8000/8000 [==============================] - 0s 39us/step - loss: 0.4967 - dense_19_loss: 0.3160 - dense_20_loss: 0.1807 - dense_19_acc: 0.9122 - dense_20_acc: 0.9350\n",
      "Epoch 8/10\n",
      "8000/8000 [==============================] - 0s 44us/step - loss: 0.4877 - dense_19_loss: 0.3125 - dense_20_loss: 0.1752 - dense_19_acc: 0.9103 - dense_20_acc: 0.9364\n",
      "Epoch 9/10\n",
      "8000/8000 [==============================] - 0s 45us/step - loss: 0.4634 - dense_19_loss: 0.2974 - dense_20_loss: 0.1660 - dense_19_acc: 0.9110 - dense_20_acc: 0.9400\n",
      "Epoch 10/10\n",
      "8000/8000 [==============================] - 0s 41us/step - loss: 0.4432 - dense_19_loss: 0.2802 - dense_20_loss: 0.1630 - dense_19_acc: 0.9168 - dense_20_acc: 0.9424\n"
     ]
    }
   ],
   "source": [
    "hist = model.fit(X, [y_hot, y_sec], epochs=10, batch_size=200)"
   ]
  },
  {
   "cell_type": "code",
   "execution_count": 63,
   "metadata": {},
   "outputs": [
    {
     "data": {
      "text/plain": [
       "{'loss': [1.7373977690935134,\n",
       "  0.9281056061387062,\n",
       "  0.730747039616108,\n",
       "  0.6583710864186287,\n",
       "  0.5636782675981522,\n",
       "  0.5264152467250824,\n",
       "  0.49665984362363813,\n",
       "  0.4876860357820988,\n",
       "  0.4633534006774426,\n",
       "  0.44315257370471955],\n",
       " 'dense_19_loss': [1.2796543821692468,\n",
       "  0.631394562125206,\n",
       "  0.4798966936767101,\n",
       "  0.418256975710392,\n",
       "  0.35961395800113677,\n",
       "  0.3307404648512602,\n",
       "  0.3159865356981754,\n",
       "  0.3125216536223888,\n",
       "  0.2973952922970057,\n",
       "  0.28019142150878906],\n",
       " 'dense_20_loss': [0.4577433817088604,\n",
       "  0.29671104811131954,\n",
       "  0.25085034742951395,\n",
       "  0.24011411219835282,\n",
       "  0.2040643110871315,\n",
       "  0.19567478355020285,\n",
       "  0.18067330904304982,\n",
       "  0.17516437973827123,\n",
       "  0.16595811024308205,\n",
       "  0.1629611538723111],\n",
       " 'dense_19_acc': [0.6053749993443489,\n",
       "  0.8327500015497208,\n",
       "  0.8661250010132789,\n",
       "  0.8828749984502793,\n",
       "  0.8984999984502793,\n",
       "  0.9047499984502793,\n",
       "  0.9122499987483025,\n",
       "  0.9102500006556511,\n",
       "  0.9109999999403954,\n",
       "  0.916750006377697],\n",
       " 'dense_20_acc': [0.7790000021457673,\n",
       "  0.8802499994635582,\n",
       "  0.9036249995231629,\n",
       "  0.9072500035166741,\n",
       "  0.9239999994635582,\n",
       "  0.9287499964237214,\n",
       "  0.9349999949336052,\n",
       "  0.9363749966025352,\n",
       "  0.9399999991059304,\n",
       "  0.9423749953508377]}"
      ]
     },
     "execution_count": 63,
     "metadata": {},
     "output_type": "execute_result"
    }
   ],
   "source": [
    "hist.history"
   ]
  },
  {
   "cell_type": "code",
   "execution_count": 64,
   "metadata": {},
   "outputs": [],
   "source": [
    "out = model.predict(X[:10])"
   ]
  },
  {
   "cell_type": "code",
   "execution_count": 65,
   "metadata": {},
   "outputs": [
    {
     "data": {
      "text/plain": [
       "array([0, 4, 1, 9, 2, 1, 3, 1, 4, 3])"
      ]
     },
     "execution_count": 65,
     "metadata": {},
     "output_type": "execute_result"
    }
   ],
   "source": [
    "o1 = out[0]\n",
    "np.argmax(o1, axis=1)"
   ]
  },
  {
   "cell_type": "code",
   "execution_count": 66,
   "metadata": {},
   "outputs": [
    {
     "data": {
      "text/plain": [
       "array([0, 0, 0, 1, 0, 0, 0, 0, 0, 0])"
      ]
     },
     "execution_count": 66,
     "metadata": {},
     "output_type": "execute_result"
    }
   ],
   "source": [
    "o2 = out[1]\n",
    "np.argmax(o2, axis=1)"
   ]
  },
  {
   "cell_type": "code",
   "execution_count": 51,
   "metadata": {},
   "outputs": [
    {
     "data": {
      "text/plain": [
       "array([0, 4, 1, 9, 2, 1, 3, 1, 4, 3])"
      ]
     },
     "execution_count": 51,
     "metadata": {},
     "output_type": "execute_result"
    }
   ],
   "source": [
    "y[:10]"
   ]
  },
  {
   "cell_type": "code",
   "execution_count": 52,
   "metadata": {},
   "outputs": [],
   "source": [
    "X_train, X_test, y_train, y_test = train_test_split(\n",
    "...     X, y, test_size=0.33, random_state=42)"
   ]
  },
  {
   "cell_type": "code",
   "execution_count": 53,
   "metadata": {},
   "outputs": [],
   "source": [
    "X_train2, X_test2, y_train2, y_test2 = train_test_split(\n",
    "...     X, y, test_size=0.33, random_state=42)"
   ]
  },
  {
   "cell_type": "code",
   "execution_count": 54,
   "metadata": {},
   "outputs": [
    {
     "data": {
      "text/plain": [
       "array([9, 1, 4, 8, 0, 8, 2, 2, 4, 8])"
      ]
     },
     "execution_count": 54,
     "metadata": {},
     "output_type": "execute_result"
    }
   ],
   "source": [
    "y_test[:10]"
   ]
  },
  {
   "cell_type": "code",
   "execution_count": 55,
   "metadata": {},
   "outputs": [
    {
     "data": {
      "text/plain": [
       "array([9, 1, 4, 8, 0, 8, 2, 2, 4, 8])"
      ]
     },
     "execution_count": 55,
     "metadata": {},
     "output_type": "execute_result"
    }
   ],
   "source": [
    "y_test2[:10]"
   ]
  },
  {
   "cell_type": "code",
   "execution_count": null,
   "metadata": {},
   "outputs": [],
   "source": []
  }
 ],
 "metadata": {
  "kernelspec": {
   "display_name": "Python 3",
   "language": "python",
   "name": "python3"
  },
  "language_info": {
   "codemirror_mode": {
    "name": "ipython",
    "version": 3
   },
   "file_extension": ".py",
   "mimetype": "text/x-python",
   "name": "python",
   "nbconvert_exporter": "python",
   "pygments_lexer": "ipython3",
   "version": "3.7.2"
  }
 },
 "nbformat": 4,
 "nbformat_minor": 2
}
